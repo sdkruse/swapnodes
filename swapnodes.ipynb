{
 "cells": [
  {
   "cell_type": "markdown",
   "metadata": {},
   "source": [
    "### This question sucks\n",
    "Problem: https://www.hackerrank.com/challenges/swap-nodes-algo/problem?isFullScreen=true\n",
    "My thinking was rather than be smart and think about the indices, I would just put it into a tree and that would make this problem easier. But turns out I wasn't sure how to assign children to parents...but I missed a line in the instruction:\n",
    "\n",
    "\"Each of the next n lines contains two integers, a b, where a is the index of left child, and b is the index of right child of ith node.\"\n",
    "\n",
    "So I could just use the data value of the parent node to find the children.... One more catch with this is that they give you the indexing system based on 1 so you have to either add the root(1) to the start of the indexes list (what I did) or subtract one every time you fetch a child. this basically takes care of all these indexing issues I thought I was having. \n",
    "\n",
    "The second issue was just the recursion limit that they have set needs to be changed given the size of their input. sys.setrecursionlimit(15000)"
   ]
  },
  {
   "cell_type": "code",
   "execution_count": 72,
   "metadata": {},
   "outputs": [],
   "source": [
    "\n",
    "import math\n",
    "import os\n",
    "import random\n",
    "import re\n",
    "import sys\n",
    "import pandas\n",
    "\n",
    "#####https://www.hackerrank.com/challenges/swap-nodes-algo/problem?isFullScreen=true\n",
    "\n",
    "sys.setrecursionlimit(15000)\n",
    "\n",
    "class Node:\n",
    "    def __init__(self, d):\n",
    "        self.data = d\n",
    "        self.left = None\n",
    "        self.right = None\n",
    "    \n",
    "\n",
    "def buildSamTree(indexes, root):\n",
    "    if root.data >= len(indexes):\n",
    "        root.left = None\n",
    "        root.right = None\n",
    "        return root\n",
    "  \n",
    "    children = indexes[root.data]\n",
    "    \n",
    "    if children[0] == -1:\n",
    "        root.left == None\n",
    "    else:\n",
    "        root.left = Node(children[0])\n",
    "        buildSamTree(indexes, root.left)\n",
    "        \n",
    "    if children[1] == -1:\n",
    "        root.right == None\n",
    "    else:\n",
    "        root.right = Node(children[1])\n",
    "        buildSamTree(indexes, root.right)\n",
    "    \n",
    "    return root\n",
    "\n",
    "def swap(d, k, root):\n",
    "    if root == None:\n",
    "        return\n",
    "    \n",
    "    if d%k ==0:\n",
    "        tmp = root.left\n",
    "        root.left = root.right\n",
    "        root.right = tmp\n",
    "    swap(d+1,k, root.left)\n",
    "    swap(d+1, k, root.right)\n",
    "\n",
    "def inorder(root, answer):\n",
    "    if root==None:\n",
    "        return\n",
    "    inorder(root.left, answer)\n",
    "\n",
    "    answer.append(root.data)\n",
    "    \n",
    "    inorder(root.right, answer)\n",
    "    \n",
    "    return answer\n",
    "    \n",
    "        \n",
    "def swapNodes(indexes, queries):\n",
    "    root = Node(1)\n",
    "    indexes.insert(0, [1,1])\n",
    "    root = buildSamTree(indexes, root)\n",
    "    answers = []\n",
    "    for k in queries:\n",
    "        d = 1\n",
    "        swap(d,k,root)\n",
    "        answer = []\n",
    "        answers.append(inorder(root, answer))\n",
    "    return answers\n",
    "\n"
   ]
  },
  {
   "cell_type": "code",
   "execution_count": 73,
   "metadata": {},
   "outputs": [],
   "source": [
    "queries = []\n",
    "indexes = []\n",
    "ins = pandas.read_csv(\"input10.txt\")\n",
    "for i in ins[ins.columns[0]]:\n",
    "    if ' ' in i:\n",
    "        data = i.split()\n",
    "        indexes.append([int(data[0]), int(data[1])])\n",
    "    else:\n",
    "        queries.append(int(i))"
   ]
  },
  {
   "cell_type": "code",
   "execution_count": 74,
   "metadata": {},
   "outputs": [],
   "source": [
    "result = swapNodes(indexes, queries)"
   ]
  },
  {
   "cell_type": "code",
   "execution_count": null,
   "metadata": {},
   "outputs": [],
   "source": []
  }
 ],
 "metadata": {
  "kernelspec": {
   "display_name": "Python 3",
   "language": "python",
   "name": "python3"
  },
  "language_info": {
   "codemirror_mode": {
    "name": "ipython",
    "version": 3
   },
   "file_extension": ".py",
   "mimetype": "text/x-python",
   "name": "python",
   "nbconvert_exporter": "python",
   "pygments_lexer": "ipython3",
   "version": "3.8.10"
  }
 },
 "nbformat": 4,
 "nbformat_minor": 4
}
